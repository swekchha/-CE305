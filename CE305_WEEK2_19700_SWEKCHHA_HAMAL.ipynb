{
  "nbformat": 4,
  "nbformat_minor": 0,
  "metadata": {
    "colab": {
      "provenance": []
    },
    "kernelspec": {
      "name": "python3",
      "display_name": "Python 3"
    },
    "language_info": {
      "name": "python"
    }
  },
  "cells": [
    {
      "cell_type": "code",
      "source": [
        "#question 1\n",
        "def encode_crc(msg, poly):\n",
        "    msg += '0' * (len(poly) - 1)\n",
        "    divisor = poly\n",
        "\n",
        "    while len(msg) >= len(poly):\n",
        "        quotient = ''\n",
        "        for i in range(len(poly)):\n",
        "            if msg[i] == divisor[i]:\n",
        "                quotient += '0'\n",
        "            else:\n",
        "                quotient += '1'\n",
        "\n",
        "        msg = quotient.lstrip('0') + msg[len(poly):]\n",
        "\n",
        "    encoded_msg = msg\n",
        "    return encoded_msg\n",
        "\n",
        "def decode_crc(rcv, poly):\n",
        "    remainder = rcv\n",
        "    divisor = poly\n",
        "\n",
        "    while len(remainder) >= len(divisor):\n",
        "        quotient = ''\n",
        "        for i in range(len(divisor)):\n",
        "            if remainder[i] == divisor[i]:\n",
        "                quotient += '0'\n",
        "            else:\n",
        "                quotient += '1'\n",
        "\n",
        "        remainder = quotient.lstrip('0') + remainder[len(divisor):]\n",
        "\n",
        "    if all(bit == '0' for bit in remainder):\n",
        "        return 'No error'\n",
        "    else:\n",
        "        return 'Error'\n",
        "\n",
        "org_sig1 = '1010'\n",
        "poly = '100101'\n",
        "encoded_sig1 = encode_crc(org_sig1, poly)\n",
        "print(\"Encoded:\", org_sig1 + ' ' + encoded_sig1)\n",
        "\n",
        "received_sig1 = '1010 00111'\n",
        "result = decode_crc(received_sig1, poly)\n",
        "print(\"Decoded:\", received_sig1, result)\n",
        "\n",
        "received_sig2 = '1010 01111'\n",
        "result = decode_crc(received_sig2, poly)\n",
        "print(\"Decoded:\", received_sig2, result)\n",
        "\n",
        "received_sig3 = '1100 11001'\n",
        "result = decode_crc(received_sig3, poly)\n",
        "print(\"Decoded:\", received_sig3, result)\n",
        "\n",
        "received_sig4 = '1100 11111'\n",
        "result = decode_crc(received_sig4, poly)\n",
        "print(\"Decoded:\", received_sig4, result)\n"
      ],
      "metadata": {
        "colab": {
          "base_uri": "https://localhost:8080/"
        },
        "id": "Tg895qJv-mub",
        "outputId": "55a1e03b-9406-403c-bb3b-b6197a915169"
      },
      "execution_count": null,
      "outputs": [
        {
          "output_type": "stream",
          "name": "stdout",
          "text": [
            "Encoded: 1010 111\n",
            "Decoded: 1010 00111 Error\n",
            "Decoded: 1010 01111 Error\n",
            "Decoded: 1100 11001 Error\n",
            "Decoded: 1100 11111 Error\n"
          ]
        }
      ]
    },
    {
      "cell_type": "code",
      "source": [
        "#question 2\n",
        "def calculate_parity_bits(data, k):\n",
        "    n = len(data)\n",
        "    hamming_code = [0] * (n + k)\n",
        "    j = 0\n",
        "\n",
        "    for i in range(1, n + k + 1):\n",
        "        if i == 2**j:\n",
        "            j += 1\n",
        "            continue\n",
        "        hamming_code[i - 1] = int(data[i - j - 1])\n",
        "\n",
        "    for j in range(k):\n",
        "        parity_bit_position = 2**j\n",
        "        parity_bit = 0\n",
        "\n",
        "        for i in range(1, n + k + 1):\n",
        "            if i & parity_bit_position != 0:\n",
        "                parity_bit ^= hamming_code[i - 1]\n",
        "\n",
        "        hamming_code[parity_bit_position - 1] = parity_bit\n",
        "\n",
        "    return ''.join(map(str, hamming_code))\n",
        "\n",
        "def HamEncoding(msg):\n",
        "    data = list(msg)\n",
        "    k = 0\n",
        "\n",
        "    while 2**k < len(data) + k + 1:\n",
        "        k += 1\n",
        "\n",
        "    encoded_msg = calculate_parity_bits(data, k)\n",
        "    print(encoded_msg)\n",
        "\n",
        "def HamDecoding(rcv, k):\n",
        "    received_data = list(rcv)\n",
        "    error_indices = []\n",
        "    parity_check_indices = [2**i for i in range(k)]\n",
        "\n",
        "    for i in parity_check_indices:\n",
        "        parity = 0\n",
        "\n",
        "        for j in range(1, len(received_data) + 1):\n",
        "            if j & i:\n",
        "                parity ^= int(received_data[j - 1])\n",
        "\n",
        "        if parity != 0:\n",
        "            error_indices.append(i)\n",
        "\n",
        "    error_position = sum(error_indices)\n",
        "\n",
        "    if error_position > 0:\n",
        "        print(f'Error at Position {error_position}, and correct data: ', end='')\n",
        "        received_data[error_position - 1] = str(int(received_data[error_position - 1]) ^ 1)\n",
        "\n",
        "    decoded_msg = ''.join(received_data)\n",
        "    print(decoded_msg)\n",
        "\n",
        "org_sig1 = '1101'\n",
        "print(\"Original Data:\", org_sig1)\n",
        "HamEncoding(org_sig1)\n",
        "k1 = 3\n",
        "HamDecoding('1010101', k1)\n",
        "HamDecoding('1010001', k1)\n",
        "\n",
        "org_sig2 = '1001011'\n",
        "print(\"Original Data:\", org_sig2)\n",
        "HamEncoding(org_sig2)\n",
        "k2 = 4\n",
        "HamDecoding('10110010011', k2)\n",
        "HamDecoding('10110000011', k2)\n"
      ],
      "metadata": {
        "colab": {
          "base_uri": "https://localhost:8080/"
        },
        "id": "vSl6OK3a_ibP",
        "outputId": "87cd301e-2313-489c-8570-6ca5e1c1b239"
      },
      "execution_count": null,
      "outputs": [
        {
          "output_type": "stream",
          "name": "stdout",
          "text": [
            "Original Data: 1101\n",
            "1010101\n",
            "1010101\n",
            "Error at Position 5, and correct data: 1010101\n",
            "Original Data: 1001011\n",
            "10110010011\n",
            "10110010011\n",
            "Error at Position 7, and correct data: 10110010011\n"
          ]
        }
      ]
    }
  ]
}